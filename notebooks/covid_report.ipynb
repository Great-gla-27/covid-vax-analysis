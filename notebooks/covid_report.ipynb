{
 "cells": [
  {
   "cell_type": "markdown",
   "id": "ca86f91e",
   "metadata": {},
   "source": [
    "# COVID-19 Vaccination and Deaths Analysis\n"
   ]
  },
  {
   "cell_type": "code",
   "execution_count": null,
   "id": "472f16e5",
   "metadata": {},
   "outputs": [],
   "source": [
    "#Setup\n",
    "\n",
    "import pandas as pd\n",
    "import sqlite3\n",
    "import matplotlib.pyplot as plt\n",
    "\n",
    "# connect to SQLite\n",
    "conn = sqlite3.connect(\":memory:\")\n"
   ]
  },
  {
   "cell_type": "code",
   "execution_count": null,
   "id": "200a5cd9",
   "metadata": {},
   "outputs": [],
   "source": [
    "# Load the datasets\n",
    "deaths = pd.read_csv(\"../data/covidDeaths.csv\")\n",
    "vaccinations = pd.read_csv(\"../data/covidVaccinations.csv\")\n",
    "\n",
    "# Quick look\n",
    "deaths.head()\n",
    "vaccinations.head()\n"
   ]
  },
  {
   "cell_type": "code",
   "execution_count": null,
   "id": "c8cfe4cf",
   "metadata": {},
   "outputs": [],
   "source": [
    "# Push dataframes into SQLite\n",
    "deaths.to_sql(\"deaths\", conn, if_exists=\"replace\", index=False)\n",
    "vaccinations.to_sql(\"vaccinations\", conn, if_exists=\"replace\", index=False)\n"
   ]
  },
  {
   "cell_type": "markdown",
   "id": "7b9feba2",
   "metadata": {},
   "source": [
    "#   SQL Queries"
   ]
  },
  {
   "cell_type": "code",
   "execution_count": null,
   "id": "df256e35",
   "metadata": {},
   "outputs": [],
   "source": [
    "#a. Select data by country/date\n",
    "\n",
    "pd.read_sql_query(\"\"\"\n",
    "SELECT location, date, total_cases, new_cases, total_deaths, population\n",
    "FROM deaths\n",
    "WHERE continent IS NOT NULL\n",
    "ORDER BY location, date;\n",
    "\"\"\", conn)\n"
   ]
  },
  {
   "cell_type": "code",
   "execution_count": null,
   "id": "7ea27391",
   "metadata": {},
   "outputs": [],
   "source": [
    "#b. Total cases vs deaths (likelihood of dying if infected)\n",
    "\n",
    "pd.read_sql_query(\"\"\"\n",
    "SELECT location, date, total_cases, total_deaths, \n",
    "       (CAST(total_deaths AS FLOAT) / total_cases) * 100 AS DeathPercentage\n",
    "FROM deaths\n",
    "WHERE location = 'United Kingdom'\n",
    "ORDER BY date;\n",
    "\"\"\", conn)\n"
   ]
  },
  {
   "cell_type": "code",
   "execution_count": null,
   "id": "6810e461",
   "metadata": {},
   "outputs": [],
   "source": [
    "#c. Total cases vs population (percentage infected)\n",
    "\n",
    "pd.read_sql_query(\"\"\"\n",
    "SELECT location, date, population, total_cases,\n",
    "       (CAST(total_cases AS FLOAT) / population) * 100 AS PercentPopulationInfected\n",
    "FROM deaths\n",
    "WHERE location = 'United Kingdom'\n",
    "ORDER BY date;\n",
    "\"\"\", conn)\n"
   ]
  },
  {
   "cell_type": "code",
   "execution_count": null,
   "id": "abdd91d8",
   "metadata": {},
   "outputs": [],
   "source": [
    "#d. Countries with highest infection rate vs population\n",
    "\n",
    "pd.read_sql_query(\"\"\"\n",
    "SELECT location, population, MAX(total_cases) AS HighestInfectionCount,\n",
    "       MAX((CAST(total_cases AS FLOAT) / population)) * 100 AS PercentPopulationInfected\n",
    "FROM deaths\n",
    "WHERE continent IS NOT NULL\n",
    "GROUP BY location, population\n",
    "ORDER BY PercentPopulationInfected DESC;\n",
    "\"\"\", conn)\n"
   ]
  },
  {
   "cell_type": "code",
   "execution_count": null,
   "id": "e195a6f6",
   "metadata": {},
   "outputs": [],
   "source": [
    "#e. Countries with highest death count\n",
    "\n",
    "pd.read_sql_query(\"\"\"\n",
    "SELECT location, MAX(CAST(total_deaths AS INT)) AS TotalDeathCount\n",
    "FROM deaths\n",
    "WHERE continent IS NOT NULL\n",
    "GROUP BY location\n",
    "ORDER BY TotalDeathCount DESC;\n",
    "\"\"\", conn)\n"
   ]
  },
  {
   "cell_type": "code",
   "execution_count": null,
   "id": "bb9905d3",
   "metadata": {},
   "outputs": [],
   "source": [
    "#f. Continents with highest death count\n",
    "\n",
    "pd.read_sql_query(\"\"\"\n",
    "SELECT continent, MAX(CAST(total_deaths AS INT)) AS TotalDeathCount\n",
    "FROM deaths\n",
    "WHERE continent IS NOT NULL\n",
    "GROUP BY continent\n",
    "ORDER BY TotalDeathCount DESC;\n",
    "\"\"\", conn)\n"
   ]
  },
  {
   "cell_type": "code",
   "execution_count": null,
   "id": "0fb4c00b",
   "metadata": {},
   "outputs": [],
   "source": [
    "#g. Global numbers (aggregated)\n",
    "\n",
    "pd.read_sql_query(\"\"\"\n",
    "SELECT date, SUM(new_cases) AS total_cases, SUM(new_deaths) AS total_deaths,\n",
    "       (SUM(new_deaths) * 1.0 / NULLIF(SUM(new_cases),0)) * 100 AS DeathPercentage\n",
    "FROM deaths\n",
    "WHERE continent IS NOT NULL\n",
    "GROUP BY date\n",
    "ORDER BY date;\n",
    "\"\"\", conn)\n"
   ]
  },
  {
   "cell_type": "code",
   "execution_count": null,
   "id": "c486c654",
   "metadata": {},
   "outputs": [],
   "source": [
    "#h. Join with vaccinations (rolling people vaccinated)\n",
    "\n",
    "pd.read_sql_query(\"\"\"\n",
    "SELECT dea.continent, dea.location, dea.date, dea.population,\n",
    "       vac.new_vaccinations,\n",
    "       SUM(vac.new_vaccinations) OVER (\n",
    "           PARTITION BY dea.location \n",
    "           ORDER BY dea.location, dea.date\n",
    "       ) AS RollingPeopleVaccinated\n",
    "FROM deaths dea\n",
    "JOIN vaccinations vac\n",
    "  ON dea.location = vac.location\n",
    "  AND dea.date = vac.date\n",
    "WHERE dea.continent IS NOT NULL\n",
    "ORDER BY dea.location, dea.date;\n",
    "\"\"\", conn)\n"
   ]
  },
  {
   "cell_type": "code",
   "execution_count": null,
   "id": "30f29320",
   "metadata": {},
   "outputs": [],
   "source": [
    "#6. Visualization Example\n",
    "\n",
    "uk_data = pd.read_sql_query(\"\"\"\n",
    "    SELECT date, people_vaccinated_per_hundred, people_fully_vaccinated_per_hundred\n",
    "    FROM vaccinations\n",
    "    WHERE location = 'United Kingdom'\n",
    "    ORDER BY date;\n",
    "\"\"\", conn)\n",
    "\n",
    "plt.figure(figsize=(12,6))\n",
    "plt.plot(uk_data[\"date\"], uk_data[\"people_vaccinated_per_hundred\"], label=\"At least one dose\")\n",
    "plt.plot(uk_data[\"date\"], uk_data[\"people_fully_vaccinated_per_hundred\"], label=\"Fully vaccinated\")\n",
    "plt.title(\"UK Vaccination Coverage\")\n",
    "plt.xlabel(\"Date\")\n",
    "plt.ylabel(\"Percentage of Population\")\n",
    "plt.legend()\n",
    "plt.grid(True)\n",
    "plt.show()\n"
   ]
  }
 ],
 "metadata": {
  "kernelspec": {
   "display_name": "datasci",
   "language": "python",
   "name": "python3"
  },
  "language_info": {
   "codemirror_mode": {
    "name": "ipython",
    "version": 3
   },
   "file_extension": ".py",
   "mimetype": "text/x-python",
   "name": "python",
   "nbconvert_exporter": "python",
   "pygments_lexer": "ipython3",
   "version": "3.11.13"
  }
 },
 "nbformat": 4,
 "nbformat_minor": 5
}
